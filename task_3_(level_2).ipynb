{
  "cells": [
    {
      "cell_type": "code",
      "execution_count": null,
      "metadata": {
        "id": "VV1C9U1CTX5W"
      },
      "outputs": [],
      "source": [
        "import pandas as pd\n",
        "import folium\n",
        "from sklearn.cluster import DBSCAN\n",
        "import numpy as np\n",
        "\n",
        "# Load and clean data\n",
        "df = pd.read_excel('Dataset .xlsx')\n",
        "df = df.dropna(subset=['Latitude', 'Longitude'])\n",
        "\n",
        "# Run DBSCAN clustering\n",
        "coords = df[['Latitude', 'Longitude']].to_numpy()\n",
        "db = DBSCAN(eps=0.05, min_samples=10).fit(coords)\n",
        "df['Cluster'] = db.labels_\n",
        "\n",
        "# Create color-coded map\n",
        "map_center = [df['Latitude'].mean(), df['Longitude'].mean()]\n",
        "cluster_map = folium.Map(location=map_center, zoom_start=5)\n",
        "\n",
        "for _, row in df.iterrows():\n",
        "    cluster_id = row['Cluster']\n",
        "    color = 'gray' if cluster_id == -1 else f\"hsl({(cluster_id * 37) % 360}, 70%, 50%)\"\n",
        "    folium.CircleMarker(\n",
        "        location=[row['Latitude'], row['Longitude']],\n",
        "        radius=4,\n",
        "        color=color,\n",
        "        fill=True,\n",
        "        fill_opacity=0.7,\n",
        "        popup=f\"Cluster {cluster_id}: {row['Restaurant Name']} ({row['City']})\"\n",
        "    ).add_to(cluster_map)\n",
        "\n",
        "# Save the map\n",
        "cluster_map.save('cluster_map.html')\n"
      ]
    }
  ],
  "metadata": {
    "colab": {
      "provenance": []
    },
    "kernelspec": {
      "display_name": "Python 3",
      "name": "python3"
    },
    "language_info": {
      "name": "python"
    }
  },
  "nbformat": 4,
  "nbformat_minor": 0
}
